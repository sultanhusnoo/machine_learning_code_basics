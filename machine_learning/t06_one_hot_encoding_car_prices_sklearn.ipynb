{
 "cells": [
  {
   "cell_type": "code",
   "execution_count": 15,
   "metadata": {},
   "outputs": [],
   "source": [
    "import pandas as pd"
   ]
  },
  {
   "cell_type": "code",
   "execution_count": 16,
   "metadata": {},
   "outputs": [],
   "source": [
    "car_prices = pd.read_csv(\"csv_files/carprices_ohe.csv\")"
   ]
  },
  {
   "cell_type": "code",
   "execution_count": 17,
   "metadata": {},
   "outputs": [
    {
     "name": "stdout",
     "output_type": "stream",
     "text": [
      "                Car Model  Mileage  Sell Price($)  Age(yrs)\n",
      "0                  BMW X5    69000          18000         6\n",
      "1                  BMW X5    35000          34000         3\n",
      "2                  BMW X5    57000          26100         5\n",
      "3                  BMW X5    22500          40000         2\n",
      "4                  BMW X5    46000          31500         4\n",
      "5                 Audi A5    59000          29400         5\n",
      "6                 Audi A5    52000          32000         5\n",
      "7                 Audi A5    72000          19300         6\n",
      "8                 Audi A5    91000          12000         8\n",
      "9   Mercedez Benz C class    67000          22000         6\n",
      "10  Mercedez Benz C class    83000          20000         7\n",
      "11  Mercedez Benz C class    79000          21000         7\n",
      "12  Mercedez Benz C class    59000          33000         5\n"
     ]
    }
   ],
   "source": [
    "print(car_prices)"
   ]
  },
  {
   "cell_type": "code",
   "execution_count": null,
   "metadata": {},
   "outputs": [],
   "source": []
  }
 ],
 "metadata": {
  "kernelspec": {
   "display_name": "Python 3",
   "language": "python",
   "name": "python3"
  },
  "language_info": {
   "codemirror_mode": {
    "name": "ipython",
    "version": 3
   },
   "file_extension": ".py",
   "mimetype": "text/x-python",
   "name": "python",
   "nbconvert_exporter": "python",
   "pygments_lexer": "ipython3",
   "version": "3.7.6"
  }
 },
 "nbformat": 4,
 "nbformat_minor": 4
}
