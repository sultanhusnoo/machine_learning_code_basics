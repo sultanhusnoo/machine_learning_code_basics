{
 "cells": [
  {
   "cell_type": "code",
   "execution_count": 2,
   "metadata": {},
   "outputs": [],
   "source": [
    "import pandas as pd\n",
    "import numpy as np\n",
    "import matplotlib.pyplot as plt\n",
    "from sklearn import linear_model"
   ]
  },
  {
   "cell_type": "code",
   "execution_count": 3,
   "metadata": {},
   "outputs": [
    {
     "name": "stdout",
     "output_type": "stream",
     "text": [
      "   area   price\n",
      "0  2600  550000\n",
      "1  3000  565000\n",
      "2  3200  610000\n",
      "3  3600  680000\n",
      "4  4000  725000\n"
     ]
    }
   ],
   "source": [
    "df = pd.read_csv(\"csv_files/t02_homeprices_single_var.csv\")\n",
    "print(df)"
   ]
  },
  {
   "cell_type": "code",
   "execution_count": 29,
   "metadata": {},
   "outputs": [
    {
     "data": {
      "text/plain": [
       "LinearRegression(copy_X=True, fit_intercept=True, n_jobs=None, normalize=False)"
      ]
     },
     "execution_count": 29,
     "metadata": {},
     "output_type": "execute_result"
    }
   ],
   "source": [
    "model_houseprice = linear_model.LinearRegression()\n",
    "model_houseprice.fit(df[['area']], df.price)"
   ]
  },
  {
   "cell_type": "code",
   "execution_count": 30,
   "metadata": {
    "scrolled": true
   },
   "outputs": [
    {
     "data": {
      "text/plain": [
       "array([628715.75342466])"
      ]
     },
     "execution_count": 30,
     "metadata": {},
     "output_type": "execute_result"
    }
   ],
   "source": [
    "model_houseprice.predict([[3300]])"
   ]
  },
  {
   "cell_type": "code",
   "execution_count": 31,
   "metadata": {},
   "outputs": [
    {
     "name": "stdout",
     "output_type": "stream",
     "text": [
      "[135.78767123] 180616.43835616432\n"
     ]
    }
   ],
   "source": [
    "print(model_houseprice.coef_,model_houseprice.intercept_,)"
   ]
  },
  {
   "cell_type": "code",
   "execution_count": 32,
   "metadata": {},
   "outputs": [
    {
     "name": "stdout",
     "output_type": "stream",
     "text": [
      "    area\n",
      "0   1000\n",
      "1   1500\n",
      "2   2300\n",
      "3   3540\n",
      "4   4120\n",
      "5   4560\n",
      "6   5490\n",
      "7   3460\n",
      "8   4750\n",
      "9   2300\n",
      "10  9000\n",
      "11  8600\n",
      "12  7100\n"
     ]
    }
   ],
   "source": [
    "df_areas = pd.read_csv(\"csv_files/areas.csv\")\n",
    "print(df_areas)"
   ]
  },
  {
   "cell_type": "code",
   "execution_count": 33,
   "metadata": {},
   "outputs": [
    {
     "name": "stdout",
     "output_type": "stream",
     "text": [
      "[ 316404.10958904  384297.94520548  492928.08219178  661304.79452055\n",
      "  740061.64383562  799808.21917808  926090.75342466  650441.78082192\n",
      "  825607.87671233  492928.08219178 1402705.47945205 1348390.4109589\n",
      " 1144708.90410959]\n"
     ]
    }
   ],
   "source": [
    "prices_for_each_areas = model_houseprice.predict(df_areas)\n",
    "print(prices_for_each_areas)"
   ]
  },
  {
   "cell_type": "code",
   "execution_count": 34,
   "metadata": {},
   "outputs": [
    {
     "name": "stdout",
     "output_type": "stream",
     "text": [
      "    area        prices\n",
      "0   1000  3.164041e+05\n",
      "1   1500  3.842979e+05\n",
      "2   2300  4.929281e+05\n",
      "3   3540  6.613048e+05\n",
      "4   4120  7.400616e+05\n",
      "5   4560  7.998082e+05\n",
      "6   5490  9.260908e+05\n",
      "7   3460  6.504418e+05\n",
      "8   4750  8.256079e+05\n",
      "9   2300  4.929281e+05\n",
      "10  9000  1.402705e+06\n",
      "11  8600  1.348390e+06\n",
      "12  7100  1.144709e+06\n"
     ]
    }
   ],
   "source": [
    "df_areas[\"prices\"] = prices_for_each_areas\n",
    "print(df_areas)"
   ]
  },
  {
   "cell_type": "code",
   "execution_count": 35,
   "metadata": {},
   "outputs": [],
   "source": [
    "df_areas.to_csv(\"csv_files/t02_prediction_houseprices_singlevar.csv\",index=False)"
   ]
  },
  {
   "cell_type": "code",
   "execution_count": 36,
   "metadata": {},
   "outputs": [],
   "source": [
    "import pickle"
   ]
  },
  {
   "cell_type": "code",
   "execution_count": 37,
   "metadata": {},
   "outputs": [],
   "source": [
    "with open('models/model_houseprice_pickle','wb') as model_file:\n",
    "    pickle.dump(model_houseprice, model_file)"
   ]
  },
  {
   "cell_type": "code",
   "execution_count": 38,
   "metadata": {},
   "outputs": [],
   "source": [
    "with open('models/model_houseprice_pickle','rb') as model_file:\n",
    "    my_model = pickle.load(model_file)"
   ]
  },
  {
   "cell_type": "code",
   "execution_count": 41,
   "metadata": {},
   "outputs": [
    {
     "data": {
      "text/plain": [
       "array([703398.97260274])"
      ]
     },
     "execution_count": 41,
     "metadata": {},
     "output_type": "execute_result"
    }
   ],
   "source": [
    "my_model.predict([[3850]])"
   ]
  },
  {
   "cell_type": "code",
   "execution_count": null,
   "metadata": {},
   "outputs": [],
   "source": []
  }
 ],
 "metadata": {
  "kernelspec": {
   "display_name": "Python 3",
   "language": "python",
   "name": "python3"
  },
  "language_info": {
   "codemirror_mode": {
    "name": "ipython",
    "version": 3
   },
   "file_extension": ".py",
   "mimetype": "text/x-python",
   "name": "python",
   "nbconvert_exporter": "python",
   "pygments_lexer": "ipython3",
   "version": "3.7.6"
  }
 },
 "nbformat": 4,
 "nbformat_minor": 4
}
