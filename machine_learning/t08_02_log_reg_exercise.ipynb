{
 "cells": [
  {
   "cell_type": "markdown",
   "metadata": {},
   "source": [
    "Use sklearn.datasets iris flower dataset to train your model using logistic regression. \n",
    "You need to figure out accuracy of your model and use that to predict different samples \n",
    "in your test dataset. In iris dataset there are 150 samples containing following features,\n",
    "\n",
    "    1. Sepal Length\n",
    "    2. Sepal Width\n",
    "    3. Petal Length\n",
    "    4. Petal Width\n",
    "\n",
    "Using above 4 features you will clasify a flower in one of the three categories,\n",
    "\n",
    "    1. Setosa (0)\n",
    "    2. Versicolour (1)\n",
    "    3. Virginica (2)"
   ]
  },
  {
   "cell_type": "code",
   "execution_count": 2,
   "metadata": {},
   "outputs": [],
   "source": [
    "import matplotlib.pyplot as plt\n",
    "%matplotlib inline\n",
    "\n",
    "from sklearn.datasets import load_iris"
   ]
  },
  {
   "cell_type": "code",
   "execution_count": 3,
   "metadata": {},
   "outputs": [],
   "source": [
    "my_iris = load_iris()"
   ]
  },
  {
   "cell_type": "code",
   "execution_count": 4,
   "metadata": {},
   "outputs": [
    {
     "data": {
      "text/plain": [
       "['DESCR', 'data', 'feature_names', 'filename', 'target', 'target_names']"
      ]
     },
     "execution_count": 4,
     "metadata": {},
     "output_type": "execute_result"
    }
   ],
   "source": [
    "dir(my_iris)"
   ]
  },
  {
   "cell_type": "code",
   "execution_count": 19,
   "metadata": {},
   "outputs": [
    {
     "data": {
      "text/plain": [
       "array(['setosa', 'versicolor', 'virginica'], dtype='<U10')"
      ]
     },
     "execution_count": 19,
     "metadata": {},
     "output_type": "execute_result"
    }
   ],
   "source": [
    "my_iris.target_names"
   ]
  },
  {
   "cell_type": "code",
   "execution_count": 34,
   "metadata": {},
   "outputs": [
    {
     "name": "stdout",
     "output_type": "stream",
     "text": [
      "[5.1 3.5 1.4 0.2] 0 setosa\n",
      "[4.9 3.  1.4 0.2] 0 setosa\n",
      "[4.7 3.2 1.3 0.2] 0 setosa\n",
      "[4.6 3.1 1.5 0.2] 0 setosa\n",
      "[5.  3.6 1.4 0.2] 0 setosa\n",
      "[7.  3.2 4.7 1.4] 1 versicolor\n",
      "[6.4 3.2 4.5 1.5] 1 versicolor\n",
      "[6.9 3.1 4.9 1.5] 1 versicolor\n",
      "[5.5 2.3 4.  1.3] 1 versicolor\n",
      "[6.5 2.8 4.6 1.5] 1 versicolor\n",
      "[6.7 3.1 5.6 2.4] 2 virginica\n",
      "[6.9 3.1 5.1 2.3] 2 virginica\n",
      "[5.8 2.7 5.1 1.9] 2 virginica\n",
      "[6.8 3.2 5.9 2.3] 2 virginica\n",
      "[6.7 3.3 5.7 2.5] 2 virginica\n"
     ]
    }
   ],
   "source": [
    "for i in range(5):\n",
    "    print(my_iris.data[i], my_iris.target[i], my_iris.target_names[my_iris.target[i]])\n",
    "for j in range(50,55):\n",
    "    print(my_iris.data[j], my_iris.target[j], my_iris.target_names[my_iris.target[j]])\n",
    "for k in range(140,145):\n",
    "    print(my_iris.data[k], my_iris.target[k], my_iris.target_names[my_iris.target[k]])"
   ]
  },
  {
   "cell_type": "code",
   "execution_count": null,
   "metadata": {},
   "outputs": [],
   "source": []
  }
 ],
 "metadata": {
  "kernelspec": {
   "display_name": "Python 3",
   "language": "python",
   "name": "python3"
  },
  "language_info": {
   "codemirror_mode": {
    "name": "ipython",
    "version": 3
   },
   "file_extension": ".py",
   "mimetype": "text/x-python",
   "name": "python",
   "nbconvert_exporter": "python",
   "pygments_lexer": "ipython3",
   "version": "3.7.6"
  }
 },
 "nbformat": 4,
 "nbformat_minor": 4
}
